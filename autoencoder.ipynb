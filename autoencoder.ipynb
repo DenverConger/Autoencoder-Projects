{
 "cells": [
  {
   "cell_type": "code",
   "execution_count": 15,
   "metadata": {},
   "outputs": [],
   "source": [
    "import tensorflow as tf\n",
    "from tensorflow import keras\n",
    "from loguru import logger\n",
    "from tensorflow.keras.models import Model\n",
    "import cv2\n",
    "import numpy as np"
   ]
  },
  {
   "cell_type": "code",
   "execution_count": 6,
   "metadata": {},
   "outputs": [
    {
     "name": "stdout",
     "output_type": "stream",
     "text": [
      "Found 903 files belonging to 1 classes.\n",
      "Found 1823 files belonging to 1 classes.\n"
     ]
    }
   ],
   "source": [
    "train_den = \"/home/denmann99/autoencoder/pics/denver1\"\n",
    "train_uch = \"/home/denmann99/autoencoder/pics/uchtdorf1\"\n",
    "denver=tf.keras.preprocessing.image_dataset_from_directory(train_den,shuffle=True,\n",
    "                                                     batch_size=64,image_size=(256, 256),seed=123)\n",
    "uch=tf.keras.preprocessing.image_dataset_from_directory(train_uch,shuffle=True,\n",
    "                                                     batch_size=64,image_size=(256, 256),seed=123)\n",
    "def normalizer(generator):\n",
    "  normalization_layer = tf.keras.layers.experimental.preprocessing.Rescaling(1./255)\n",
    "\n",
    "  def change_inputs(images, labels):\n",
    "    x = tf.image.resize(normalization_layer(images),[256, 256], method=tf.image.ResizeMethod.NEAREST_NEIGHBOR)\n",
    "    return x, x\n",
    "\n",
    "  return generator.map(change_inputs)\n",
    "normalized_denver = normalizer(denver)\n",
    "normalized_uchtdorf = normalizer(uch)"
   ]
  },
  {
   "cell_type": "code",
   "execution_count": 28,
   "metadata": {},
   "outputs": [
    {
     "name": "stdout",
     "output_type": "stream",
     "text": [
      "Model: \"model_1\"\n",
      "_________________________________________________________________\n",
      "Layer (type)                 Output Shape              Param #   \n",
      "=================================================================\n",
      "input_2 (InputLayer)         [(None, 256, 256, 3)]     0         \n",
      "_________________________________________________________________\n",
      "conv2d_3 (Conv2D)            (None, 256, 256, 32)      896       \n",
      "_________________________________________________________________\n",
      "max_pooling2d_2 (MaxPooling2 (None, 128, 128, 32)      0         \n",
      "_________________________________________________________________\n",
      "conv2d_4 (Conv2D)            (None, 128, 128, 32)      9248      \n",
      "_________________________________________________________________\n",
      "max_pooling2d_3 (MaxPooling2 (None, 64, 64, 32)        0         \n",
      "_________________________________________________________________\n",
      "conv2d_transpose_2 (Conv2DTr (None, 128, 128, 32)      9248      \n",
      "_________________________________________________________________\n",
      "conv2d_transpose_3 (Conv2DTr (None, 256, 256, 32)      9248      \n",
      "_________________________________________________________________\n",
      "conv2d_5 (Conv2D)            (None, 256, 256, 3)       867       \n",
      "=================================================================\n",
      "Total params: 29,507\n",
      "Trainable params: 29,507\n",
      "Non-trainable params: 0\n",
      "_________________________________________________________________\n"
     ]
    }
   ],
   "source": [
    "input = tf.keras.layers.Input(shape=(256, 256, 3))\n",
    "\n",
    "# Encoder\n",
    "x = tf.keras.layers.Conv2D(32, (3, 3), activation=\"relu\", padding=\"same\")(input)\n",
    "x = tf.keras.layers.MaxPooling2D((2, 2), padding=\"same\")(x)\n",
    "x = tf.keras.layers.Conv2D(32, (3, 3), activation=\"relu\", padding=\"same\")(x)\n",
    "x = tf.keras.layers.MaxPooling2D((2, 2), padding=\"same\")(x)\n",
    "\n",
    "# Decoder\n",
    "x = tf.keras.layers.Conv2DTranspose(32, (3, 3), strides=2, activation=\"relu\", padding=\"same\")(x)\n",
    "x = tf.keras.layers.Conv2DTranspose(32, (3, 3), strides=2, activation=\"relu\", padding=\"same\")(x)\n",
    "x = tf.keras.layers.Conv2D(3, (3, 3), activation=\"sigmoid\", padding=\"same\")(x)\n",
    "\n",
    "# Autoencoder\n",
    "autoencoder = Model(input, x)\n",
    "autoencoder.compile(optimizer=tf.keras.optimizers.Adam(learning_rate=0.01), loss=\"binary_crossentropy\")\n",
    "autoencoder.summary()"
   ]
  },
  {
   "cell_type": "code",
   "execution_count": 31,
   "metadata": {},
   "outputs": [
    {
     "name": "stdout",
     "output_type": "stream",
     "text": [
      "Epoch 1/5\n",
      "15/15 [==============================] - 7s 422ms/step - loss: 0.6014\n",
      "Epoch 2/5\n",
      "15/15 [==============================] - 8s 433ms/step - loss: 0.5993\n",
      "Epoch 3/5\n",
      "15/15 [==============================] - 8s 441ms/step - loss: 0.5982\n",
      "Epoch 4/5\n",
      "15/15 [==============================] - 7s 408ms/step - loss: 0.5971\n",
      "Epoch 5/5\n",
      "15/15 [==============================] - 8s 436ms/step - loss: 0.5968\n"
     ]
    },
    {
     "data": {
      "text/plain": [
       "<tensorflow.python.keras.callbacks.History at 0x7fba1c0d4d60>"
      ]
     },
     "execution_count": 31,
     "metadata": {},
     "output_type": "execute_result"
    }
   ],
   "source": [
    "autoencoder.fit(\n",
    "    x=normalized_denver,\n",
    "    epochs=5,\n",
    "    batch_size=64,\n",
    "    shuffle=True\n",
    ")"
   ]
  },
  {
   "cell_type": "code",
   "execution_count": 34,
   "metadata": {},
   "outputs": [
    {
     "data": {
      "text/plain": [
       "True"
      ]
     },
     "execution_count": 34,
     "metadata": {},
     "output_type": "execute_result"
    }
   ],
   "source": [
    "face = cv2.imread(\"/home/denmann99/autoencoder/pics/uchtdorf1/uchtdorf/uchtdorf_face2.jpg\")\n",
    "face = cv2.resize(face,(256,256))\n",
    "face = np.reshape(face, (1,256,256,3))\n",
    "face = face/255\n",
    "pred = autoencoder.predict(face)\n",
    "pred = np.reshape(pred,(256,256,3))\n",
    "pred = pred*255\n",
    "cv2.imwrite(\"/home/denmann99/autoencoder/Capturing.png\", pred)"
   ]
  },
  {
   "cell_type": "code",
   "execution_count": null,
   "metadata": {},
   "outputs": [],
   "source": []
  }
 ],
 "metadata": {
  "kernelspec": {
   "display_name": "Python 3.9.13 ('autoencoder-env')",
   "language": "python",
   "name": "python3"
  },
  "language_info": {
   "codemirror_mode": {
    "name": "ipython",
    "version": 3
   },
   "file_extension": ".py",
   "mimetype": "text/x-python",
   "name": "python",
   "nbconvert_exporter": "python",
   "pygments_lexer": "ipython3",
   "version": "3.9.13"
  },
  "orig_nbformat": 4,
  "vscode": {
   "interpreter": {
    "hash": "65ab5c996eb85f72da1c2debf2061f788467f169128745643bf45e311bc9c52b"
   }
  }
 },
 "nbformat": 4,
 "nbformat_minor": 2
}
